{
 "cells": [
  {
   "cell_type": "markdown",
   "metadata": {},
   "source": [
    "# Object-Oriented-Programming (OOP)"
   ]
  },
  {
   "cell_type": "markdown",
   "metadata": {},
   "source": [
    "## Tasks Today:\n",
    "\n",
    "   \n",
    "\n",
    "1) <b>Creating a Class (Initializing/Declaring)</b> <br>\n",
    "2) <b>Using a Class (Instantiating)</b> <br>\n",
    " &nbsp;&nbsp;&nbsp;&nbsp; a) Creating One Instance <br>\n",
    " &nbsp;&nbsp;&nbsp;&nbsp; b) Creating Multiple Instances <br>\n",
    " &nbsp;&nbsp;&nbsp;&nbsp; c) In-Class Exercise #1 - Create a Class 'Car' and instantiate three different makes of cars <br>\n",
    "3) <b>The \\__init\\__() Method</b> <br>\n",
    " &nbsp;&nbsp;&nbsp;&nbsp; a) The 'self' Attribute <br>\n",
    "4) <b>Class Attributes</b> <br>\n",
    " &nbsp;&nbsp;&nbsp;&nbsp; a) Initializing Attributes <br>\n",
    " &nbsp;&nbsp;&nbsp;&nbsp; b) Setting an Attribute Outside of the \\__init\\__() Method <br>\n",
    " &nbsp;&nbsp;&nbsp;&nbsp; c) Setting Defaults for Attributes <br>\n",
    " &nbsp;&nbsp;&nbsp;&nbsp; d) Accessing Class Attributes <br>\n",
    " &nbsp;&nbsp;&nbsp;&nbsp; e) Changing Class Attributes <br>\n",
    " &nbsp;&nbsp;&nbsp;&nbsp; f) In-Class Exercise #2 - Add a color and wheels attribute to your 'Car' class <br>\n",
    "5) <b>Class Methods</b> <br>\n",
    " &nbsp;&nbsp;&nbsp;&nbsp; a) Creating <br>\n",
    " &nbsp;&nbsp;&nbsp;&nbsp; b) Calling <br>\n",
    " &nbsp;&nbsp;&nbsp;&nbsp; c) Modifying an Attribute's Value Through a Method <br>\n",
    " &nbsp;&nbsp;&nbsp;&nbsp; d) Incrementing an Attribute's Value Through a Method <br>\n",
    " &nbsp;&nbsp;&nbsp;&nbsp; e) In-Class Exercise #3 - Add a method that prints the cars color and wheel number, then call them <br>\n",
    "6) <b>Inheritance</b> <br>\n",
    " &nbsp;&nbsp;&nbsp;&nbsp; a) Syntax for Inheriting from a Parent Class <br>\n",
    " &nbsp;&nbsp;&nbsp;&nbsp; b) The \\__init\\__() Method for a Child Class (super()) <br>\n",
    " &nbsp;&nbsp;&nbsp;&nbsp; c) Defining Attributes and Methods for the Child Class <br>\n",
    " &nbsp;&nbsp;&nbsp;&nbsp; d) Method Overriding <br>\n",
    " &nbsp;&nbsp;&nbsp;&nbsp; e) In-Class Exercise #4 - Create a class 'Ford' that inherits from 'Car' class and initialize it as a Blue Ford Explorer with 4 wheels using the super() method <br>\n",
    "7) <b>Classes as Attributes</b> <br>\n",
    "8) <b>Exercises</b> <br>\n",
    " &nbsp;&nbsp;&nbsp;&nbsp; a) Exercise #1 - Turn the shopping cart program from yesterday into an object-oriented program <br>"
   ]
  },
  {
   "cell_type": "markdown",
   "metadata": {},
   "source": [
    "## Creating a Class (Initializing/Declaring)\n",
    "<p>When creating a class, function, or even a variable you are initializing that object. Initializing and Declaring occur at the same time in Python, whereas in lower level languages you have to declare an object before initializing it. This is the first step in the process of using a class.</p>"
   ]
  },
  {
   "cell_type": "code",
   "execution_count": null,
   "metadata": {},
   "outputs": [],
   "source": [
    "class Car(): # Class names are written in PascalCase (no space, every word is uppercase)\n",
    "    wheels = 4 # class attribute\n",
    "    color = 'blue' # instance attribute"
   ]
  },
  {
   "cell_type": "markdown",
   "metadata": {},
   "source": [
    "## Using a Class (Instantiating)\n",
    "<p>The process of creating a class is called <i>Instantiating</i>. Each time you create a variable of that type of class, it is referred to as an <i>Instance</i> of that class. This is the second step in the process of using a class.</p>"
   ]
  },
  {
   "cell_type": "markdown",
   "metadata": {},
   "source": [
    "##### Creating One Instance"
   ]
  },
  {
   "cell_type": "code",
   "execution_count": null,
   "metadata": {},
   "outputs": [],
   "source": [
    "ford = Car()\n",
    "\n",
    "ford.wheels"
   ]
  },
  {
   "cell_type": "code",
   "execution_count": null,
   "metadata": {},
   "outputs": [],
   "source": []
  },
  {
   "cell_type": "code",
   "execution_count": null,
   "metadata": {},
   "outputs": [],
   "source": []
  },
  {
   "cell_type": "markdown",
   "metadata": {},
   "source": [
    "##### Creating Multiple Instances"
   ]
  },
  {
   "cell_type": "code",
   "execution_count": null,
   "metadata": {},
   "outputs": [],
   "source": []
  },
  {
   "cell_type": "markdown",
   "metadata": {},
   "source": [
    "##### In-Class Exercise #1 - Create a Class 'Car' and Instantiate three different makes of cars"
   ]
  },
  {
   "cell_type": "code",
   "execution_count": null,
   "metadata": {},
   "outputs": [],
   "source": [
    "class Car():\n",
    "    engine = \"inline 5\"\n",
    "    num_of_seats = 5\n",
    "    \n",
    "volks = Car()\n",
    "accura = Car()\n",
    "lincoln = Car()\n",
    "\n",
    "print(volks.engine)\n",
    "print(accura.engine)\n",
    "print(lincoln.num_of_seats)"
   ]
  },
  {
   "cell_type": "markdown",
   "metadata": {},
   "source": [
    "## The \\__init\\__() Method <br>\n",
    "<p>This method is used in almost every created class, and called only once upon the creation of the class instance. This method will initialize all variables needed for the object.</p>"
   ]
  },
  {
   "cell_type": "code",
   "execution_count": null,
   "metadata": {},
   "outputs": [],
   "source": [
    "class Car():\n",
    "    engine = 4L\n",
    "    \n",
    "    def __init__():"
   ]
  },
  {
   "cell_type": "markdown",
   "metadata": {},
   "source": [
    "##### The 'self' Attribute <br>\n",
    "<p>This attribute is required to keep track of specific instance's attributes. Without the self attribute, the program would not know how to reference or keep track of an instance's attributes.</p>"
   ]
  },
  {
   "cell_type": "code",
   "execution_count": null,
   "metadata": {},
   "outputs": [],
   "source": [
    "# see above"
   ]
  },
  {
   "cell_type": "markdown",
   "metadata": {},
   "source": [
    "## Class Attributes <br>\n",
    "<p>While variables are inside of a class, they are referred to as attributes and not variables. When someone says 'attribute' you know they're speaking about a class. Attributes can be initialized through the init method, or outside of it.</p>"
   ]
  },
  {
   "cell_type": "markdown",
   "metadata": {},
   "source": [
    "##### Initializing Attributes"
   ]
  },
  {
   "cell_type": "code",
   "execution_count": null,
   "metadata": {},
   "outputs": [],
   "source": [
    "# see above"
   ]
  },
  {
   "cell_type": "markdown",
   "metadata": {},
   "source": [
    "##### Accessing Class Attributes"
   ]
  },
  {
   "cell_type": "code",
   "execution_count": null,
   "metadata": {
    "scrolled": true
   },
   "outputs": [],
   "source": [
    "# See Above"
   ]
  },
  {
   "cell_type": "markdown",
   "metadata": {},
   "source": [
    "##### Setting Defaults for Attributes"
   ]
  },
  {
   "cell_type": "code",
   "execution_count": null,
   "metadata": {},
   "outputs": [],
   "source": []
  },
  {
   "cell_type": "markdown",
   "metadata": {},
   "source": [
    "##### Changing Class Attributes <br>\n",
    "<p>Keep in mind there are global class attributes and then there are attributes only available to each class instance which won't effect other classes.</p>"
   ]
  },
  {
   "cell_type": "code",
   "execution_count": null,
   "metadata": {},
   "outputs": [],
   "source": []
  },
  {
   "cell_type": "code",
   "execution_count": null,
   "metadata": {},
   "outputs": [],
   "source": []
  },
  {
   "cell_type": "markdown",
   "metadata": {},
   "source": [
    "##### In-Class Exercise #2 - Add a doors and seats attribute to your 'Car' class then print out two different instances with different doors and seats"
   ]
  },
  {
   "cell_type": "code",
   "execution_count": null,
   "metadata": {},
   "outputs": [],
   "source": [
    "# wheels seats color has_sunroof\n",
    "class Car():\n",
    "    def __init__(self, seats, wheels, color, has_sunroof):\n",
    "        self.seats = seats\n",
    "        self.wheels = wheels\n",
    "        self.color = color\n",
    "        self.has_sunroof = has_sunroof\n",
    "\n",
    "truck = Car(4, 4, \"blue\", \"no sunroof\")\n",
    "print(truck.seats)\n",
    "print(truck.wheels)\n",
    "print(truck.color)\n",
    "print(truck.has_sunroof)"
   ]
  },
  {
   "cell_type": "markdown",
   "metadata": {},
   "source": [
    "## Class Methods <br>\n",
    "<p>While inside of a class, functions are referred to as 'methods'. If you hear someone mention methods, they're speaking about classes. Methods are essentially functions, but only callable on the instances of a class.</p>"
   ]
  },
  {
   "cell_type": "markdown",
   "metadata": {},
   "source": [
    "##### Creating"
   ]
  },
  {
   "cell_type": "code",
   "execution_count": null,
   "metadata": {},
   "outputs": [],
   "source": [
    "class Car():\n",
    "    def __init__(self, wheels, color, seats):\n",
    "        self.wheels = wheels\n",
    "        self.color = color\n",
    "        self.seats = seats\n",
    "        self.has_sunroof = False\n",
    "    \n",
    "    def drive(self):\n",
    "        print(\"VROOOOOOOOOOM!!!!!!!!\")\n",
    "    \n",
    "    def describe(self):\n",
    "        print(f\"The car is {self.color}, with {self.seats} seats and {self.wheels} wheels!\")\n",
    "    \n",
    "    def set_color(self, new_color):\n",
    "        self.color = new_color.lower()\n",
    "        \n",
    "    def get_color(self):\n",
    "        return self.color\n",
    "    \n",
    "    def add_seats(self):\n",
    "        self.seats += 1\n",
    "        "
   ]
  },
  {
   "cell_type": "code",
   "execution_count": null,
   "metadata": {},
   "outputs": [],
   "source": [
    "chevy = Car(4, \"red\", 8)\n",
    "print(chevy)\n",
    "print(dir(chevy))\n",
    "print(chevy.wheels)\n",
    "\n",
    "chevy.drive()\n",
    "chevy.describe()\n",
    "\n",
    "volvo = Car(2, \"grey\", 5)\n",
    "volvo.describe()\n",
    "\n",
    "volvo.set_color(\"blue\")\n",
    "print(volvo.get_color())\n",
    "\n",
    "print(chevy.wheels)\n",
    "print(volvo.wheels)\n",
    "volvo.add_seats()\n",
    "print(chevy.wheels)\n",
    "print(volvo.wheels)"
   ]
  },
  {
   "cell_type": "markdown",
   "metadata": {},
   "source": [
    "##### Calling"
   ]
  },
  {
   "cell_type": "code",
   "execution_count": null,
   "metadata": {},
   "outputs": [],
   "source": [
    "# See Above"
   ]
  },
  {
   "cell_type": "markdown",
   "metadata": {},
   "source": [
    "##### Modifying an Attribute's Value Through a Method"
   ]
  },
  {
   "cell_type": "code",
   "execution_count": null,
   "metadata": {},
   "outputs": [],
   "source": []
  },
  {
   "cell_type": "markdown",
   "metadata": {},
   "source": [
    "##### Incrementing an Attribute's Value Through a Method"
   ]
  },
  {
   "cell_type": "code",
   "execution_count": null,
   "metadata": {},
   "outputs": [],
   "source": []
  },
  {
   "cell_type": "markdown",
   "metadata": {},
   "source": [
    "##### In-Class Exercise #3 - Add a method that takes in three parameters of year, doors and seats and prints out a formatted print statement with make, model, year, seats, and doors"
   ]
  },
  {
   "cell_type": "code",
   "execution_count": null,
   "metadata": {},
   "outputs": [],
   "source": [
    "# Create class with 2 paramters inside of the __init__ which are make and model\n",
    "\n",
    "# Inside of the Car class create a method that has 4 parameter in total (self,year,door,seats)\n",
    "\n",
    "# Output: This car is from 2019 and is a Ford Expolorer and has 4 doors and 5 seats\n",
    "'''\n",
    "class Car():\n",
    "    def __init__(self, year, make, model, color, seats, doors):\n",
    "        self.year = year\n",
    "        self.make = make\n",
    "        self.model = model\n",
    "        self.color = color\n",
    "        self.seats = seats\n",
    "        self.doors = doors\n",
    "    \n",
    "    def drive(self):\n",
    "        print(\"VROOOOOOOOOOOOOOOOOOOOOOOOOOOOOM!!!!!\")\n",
    "    \n",
    "    def describe(self):\n",
    "        print(f\"This car is a {self.color} {self.year} {self.make} {self.model}, with {self.doors} doors and {self.seats} seats!\")\n",
    "        \n",
    "    def friends_quote(self):\n",
    "        print(f\"\\nWould the owner of a {self.year} {self.make} {self.model} please visit the front desk, your car is about to be towed.\")\n",
    "        \n",
    "'''\n",
    "class Car():\n",
    "    engine = \"4.7L\"\n",
    "    \n",
    "    def __init__(self, make, model):\n",
    "        self.make = make\n",
    "        self.model = model\n",
    "        self.year = None\n",
    "        self.doors = None\n",
    "        self.seats = None\n",
    "        \n",
    "    def add_details(self, year, doors, s):\n",
    "        self.year = year\n",
    "        self.doors = doors\n",
    "        self.seats = s\n",
    "        \n",
    "    def describe(self):\n",
    "        print(f\"this car is a {self.year} {self.make} {self.model} and has {self.doors} doors and {self.seats} seats\")\n",
    "        \n",
    "    @classmethod\n",
    "    def which_is_better(cls, car1, car2):\n",
    "        if car1.year > car2.year:\n",
    "            print(f\"{car1.make} {car1.model} is better than {car2.make} {car2.model}\")\n",
    "        else:\n",
    "            print(f\"{car1.make} {car1.model} is worse than {car2.make} {car2.model}\")\n",
    "    \n",
    "        \n",
    "        \n",
    "# Driver Code\n",
    "my_car = Car(\"Mazda\", \"CX-5\")\n",
    "my_car.describe()\n",
    "my_car.add_details(2021, 4, 5)\n",
    "my_car.describe()\n",
    "\n",
    "\n",
    "dylan_car = Car(\"Ford\", \"POS\")\n",
    "dylan_car.add_details(1991, 3, 2)\n",
    "dylan_car.describe()\n",
    "\n",
    "Car.which_is_better(dylan_car,my_car)\n",
    "\n",
    "my_car.which_is_better(dylan_car,my_car)"
   ]
  },
  {
   "cell_type": "code",
   "execution_count": null,
   "metadata": {},
   "outputs": [],
   "source": [
    "'''\n",
    "chevy = Car(2022, \"Chevy\", \"Equinox\", \"red\", 5, 4)\n",
    "chevy.describe()\n",
    "\n",
    "buick = Car(1995, \"Buick\", \"Lesabre\", \"green/blue\", 5, 4)\n",
    "buick.friends_quote()\n",
    "'''"
   ]
  },
  {
   "cell_type": "markdown",
   "metadata": {},
   "source": [
    "## Inheritance <br>\n",
    "<p>You can create a child-parent relationship between two classes by using inheritance. What this allows you to do is have overriding methods, but also inherit traits from the parent class. Think of it as an actual parent and child, the child will inherit the parent's genes, as will the classes in OOP</p>"
   ]
  },
  {
   "cell_type": "markdown",
   "metadata": {},
   "source": [
    "##### Syntax for Inheriting from a Parent Class"
   ]
  },
  {
   "cell_type": "code",
   "execution_count": null,
   "metadata": {},
   "outputs": [],
   "source": []
  },
  {
   "cell_type": "markdown",
   "metadata": {},
   "source": [
    "##### The \\__init\\__() Method for a Child Class - super()"
   ]
  },
  {
   "cell_type": "code",
   "execution_count": null,
   "metadata": {
    "scrolled": true
   },
   "outputs": [],
   "source": []
  },
  {
   "cell_type": "markdown",
   "metadata": {},
   "source": [
    "##### Defining Attributes and Methods for the Child Class"
   ]
  },
  {
   "cell_type": "code",
   "execution_count": null,
   "metadata": {},
   "outputs": [],
   "source": [
    "# See Above"
   ]
  },
  {
   "cell_type": "markdown",
   "metadata": {},
   "source": [
    "##### Method Overriding"
   ]
  },
  {
   "cell_type": "code",
   "execution_count": null,
   "metadata": {},
   "outputs": [],
   "source": [
    "# See Above"
   ]
  },
  {
   "cell_type": "markdown",
   "metadata": {},
   "source": [
    "## Classes as Attributes <br>\n",
    "<p>Classes can also be used as attributes within another class. This is useful in situations where you need to keep variables locally stored, instead of globally stored.</p>"
   ]
  },
  {
   "cell_type": "code",
   "execution_count": null,
   "metadata": {},
   "outputs": [],
   "source": [
    "class ElectricCar():\n",
    "    def __init__(self, year, make, a_battery):\n",
    "        self.year = year\n",
    "        self.make = make\n",
    "        self.battery = a_battery\n",
    "        \n",
    "    def describe(self):\n",
    "        print(self.year, self.make)\n",
    "\n",
    "class battery():\n",
    "    volts = 7.8\n",
    "    \n",
    "    def __init__(self, cells):\n",
    "        self.cells = cells\n",
    "        self.charge = 100\n",
    "        \n",
    "    def drive(self):\n",
    "        self.charge -= 10\n",
    "        \n",
    "    def recharge(self):\n",
    "        self.charge = 100\n",
    "        \n",
    "energizer = battery(8)\n",
    "print(energizer.charge)\n",
    "energizer.drive()\n",
    "print(energizer.charge)\n",
    "energizer.drive()\n",
    "print(energizer.charge)\n",
    "energizer.drive()\n",
    "energizer.recharge()\n",
    "print(energizer.charge)\n",
    "\n",
    "tesla = ElectricCar(2020, \"Tesla\", energizer)\n",
    "\n",
    "tesla.describe()\n",
    "\n",
    "print(tesla.battery.cells)\n",
    "print(tesla.battery.charge)\n",
    "tesla.battery.drive()\n",
    "print(tesla.battery.charge)\n",
    "tesla.battery.recharge()\n",
    "print(tesla.battery.charge)"
   ]
  },
  {
   "cell_type": "markdown",
   "metadata": {},
   "source": [
    "# Exercises"
   ]
  },
  {
   "cell_type": "markdown",
   "metadata": {},
   "source": [
    "### Exercise 1 - Turn the shopping cart program from yesterday into an object-oriented program\n",
    "\n",
    "The comments in the cell below are there as a guide for thinking about the problem. However, if you feel a different way is best for you and your own thought process, please do what feels best for you by all means."
   ]
  },
  {
   "cell_type": "code",
   "execution_count": 15,
   "metadata": {},
   "outputs": [
    {
     "name": "stdout",
     "output_type": "stream",
     "text": [
      "\n",
      "Here's what you had:\n",
      "You didn't have anything in your cart.\n",
      "Goodbye!\n"
     ]
    }
   ],
   "source": [
    "# Create a class called cart that retains items and has methods to add, remove, and show\n",
    "\n",
    "from IPython.display import clear_output\n",
    "\n",
    "# Ask the user four bits of input: Do you want to : Show/Add/Delete or Quit?\n",
    "\n",
    "class Cart():\n",
    "    \n",
    "    def quit_program():\n",
    "        clear_output()\n",
    "        print(\"\\nHere's what you had:\")\n",
    "        if len(your_cart) == 0:\n",
    "            print(\"You didn't have anything in your cart.\")\n",
    "        else:\n",
    "            print(your_cart)\n",
    "        print(\"Goodbye!\")\n",
    "\n",
    "    def show_cart():\n",
    "        clear_output()\n",
    "        if len(your_cart) == 0:\n",
    "            print(\"\\nYou have nothing in your cart.\")\n",
    "        else:\n",
    "            print(\"\\nHere's what you have:\")\n",
    "            print(your_cart)\n",
    "                \n",
    "    def add_item(item):\n",
    "        clear_output()\n",
    "        if item not in your_cart:\n",
    "            your_cart[item] = 1\n",
    "        else:\n",
    "            your_cart[item] += 1\n",
    "        print(\"Added: \" + item)\n",
    "                         \n",
    "    def delete_item(item):\n",
    "        clear_output()\n",
    "        del your_cart[item]\n",
    "        print(\"Deleted: \" + item)\n",
    "        \n",
    "    def clear_cart():\n",
    "        clear_output()\n",
    "        cart.clear()\n",
    "        print(\"Your cart is now empty\")\n",
    "        \n",
    "class Main():\n",
    "        \n",
    "    your_cart = {}\n",
    "\n",
    "    def cart():\n",
    "        while True:\n",
    "            response = input(\"Welcome to your cart! Do you want to : Show/Add/Delete/Clear/Quit : \").lower().strip()\n",
    "            if response == \"show\":\n",
    "                Cart.show_cart()\n",
    "\n",
    "            elif response == \"quit\":\n",
    "                Cart.quit_program()\n",
    "                break\n",
    "                \n",
    "            elif response == \"clear\":\n",
    "                Cart.clear_cart()\n",
    "\n",
    "            elif response == \"add\":\n",
    "                clear_output()\n",
    "                while True:\n",
    "                    item = input('What would you like to add? : (type your item)/Show/Clear/Back : ').lower().strip()\n",
    "                    if item == \"show\":\n",
    "                        Cart.show_cart()\n",
    "                    elif item == \"back\":\n",
    "                        clear_output()\n",
    "                        break\n",
    "                    elif response == \"clear\":\n",
    "                        Cart.clear_cart()\n",
    "                    else:\n",
    "                        Cart.add_item(item)\n",
    "\n",
    "            elif response == \"delete\":\n",
    "                clear_output()\n",
    "                while True:\n",
    "                    delete = input(\"What item would you like to delete? : (Type your item)/Show/Clear/Back : \").lower().strip()\n",
    "                    if delete == \"show\":\n",
    "                        Cart.show_cart()\n",
    "                    elif delete == \"back\":\n",
    "                        clear_output()\n",
    "                        break\n",
    "                    elif response == \"clear\":\n",
    "                        Cart.clear_cart()\n",
    "                    else:\n",
    "                        Cart.delete_item(delete)\n",
    "                        continue\n",
    "\n",
    "\n",
    "cart()"
   ]
  },
  {
   "cell_type": "markdown",
   "metadata": {},
   "source": [
    "### Exercise 2 - Write a Python class which has two methods get_String and print_String. get_String accept a string from the user and print_String print the string in upper case"
   ]
  },
  {
   "cell_type": "code",
   "execution_count": null,
   "metadata": {},
   "outputs": [],
   "source": [
    "class string():\n",
    "    def __init__(self):\n",
    "        self.string = None\n",
    "        pass\n",
    "    def get_string(self, new_string):\n",
    "        self.string = new_string.strip()\n",
    "        \n",
    "    def print_string(self):\n",
    "        return self.string"
   ]
  },
  {
   "cell_type": "code",
   "execution_count": null,
   "metadata": {},
   "outputs": [],
   "source": [
    "test = string()\n",
    "test.get_string(\"This is a test.\")\n",
    "test.print_string()"
   ]
  }
 ],
 "metadata": {
  "kernelspec": {
   "display_name": "Python 3 (ipykernel)",
   "language": "python",
   "name": "python3"
  },
  "language_info": {
   "codemirror_mode": {
    "name": "ipython",
    "version": 3
   },
   "file_extension": ".py",
   "mimetype": "text/x-python",
   "name": "python",
   "nbconvert_exporter": "python",
   "pygments_lexer": "ipython3",
   "version": "3.9.12"
  }
 },
 "nbformat": 4,
 "nbformat_minor": 2
}
